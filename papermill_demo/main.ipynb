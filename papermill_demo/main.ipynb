{
 "cells": [
  {
   "cell_type": "code",
   "execution_count": 2,
   "metadata": {
    "collapsed": true
   },
   "outputs": [
    {
     "name": "stdout",
     "output_type": "stream",
     "text": [
      "Requirement already satisfied: papermill in /opt/conda/envs/rapids/lib/python3.6/site-packages (2.1.2)\n",
      "Requirement already satisfied: ipywidgets in /opt/conda/envs/rapids/lib/python3.6/site-packages (7.5.1)\n",
      "Collecting jupyter-client==6.1.5\n",
      "  Downloading jupyter_client-6.1.5-py3-none-any.whl (107 kB)\n",
      "\u001b[K     |################################| 107 kB 8.2 MB/s eta 0:00:01\n",
      "\u001b[?25hRequirement already satisfied: nbformat in /opt/conda/envs/rapids/lib/python3.6/site-packages (from papermill) (5.0.6)\n",
      "Requirement already satisfied: tenacity in /opt/conda/envs/rapids/lib/python3.6/site-packages (from papermill) (6.2.0)\n",
      "Requirement already satisfied: pyyaml in /opt/conda/envs/rapids/lib/python3.6/site-packages (from papermill) (5.3.1)\n",
      "Requirement already satisfied: click in /opt/conda/envs/rapids/lib/python3.6/site-packages (from papermill) (7.1.2)\n",
      "Requirement already satisfied: black in /opt/conda/envs/rapids/lib/python3.6/site-packages (from papermill) (19.10b0)\n",
      "Requirement already satisfied: ansiwrap in /opt/conda/envs/rapids/lib/python3.6/site-packages (from papermill) (0.8.4)\n",
      "Requirement already satisfied: nbclient>=0.2.0 in /opt/conda/envs/rapids/lib/python3.6/site-packages (from papermill) (0.4.1)\n",
      "Requirement already satisfied: requests in /opt/conda/envs/rapids/lib/python3.6/site-packages (from papermill) (2.23.0)\n",
      "Requirement already satisfied: tqdm>=4.32.2 in /opt/conda/envs/rapids/lib/python3.6/site-packages (from papermill) (4.46.1)\n",
      "Requirement already satisfied: entrypoints in /opt/conda/envs/rapids/lib/python3.6/site-packages (from papermill) (0.3)\n",
      "Requirement already satisfied: widgetsnbextension~=3.5.0 in /opt/conda/envs/rapids/lib/python3.6/site-packages (from ipywidgets) (3.5.1)\n",
      "Requirement already satisfied: ipykernel>=4.5.1 in /opt/conda/envs/rapids/lib/python3.6/site-packages (from ipywidgets) (5.3.0)\n",
      "Requirement already satisfied: traitlets>=4.3.1 in /opt/conda/envs/rapids/lib/python3.6/site-packages (from ipywidgets) (4.3.3)\n",
      "Requirement already satisfied: ipython>=4.0.0; python_version >= \"3.3\" in /opt/conda/envs/rapids/lib/python3.6/site-packages (from ipywidgets) (7.3.0)\n",
      "Requirement already satisfied: python-dateutil>=2.1 in /opt/conda/envs/rapids/lib/python3.6/site-packages (from jupyter-client==6.1.5) (2.8.1)\n",
      "Requirement already satisfied: jupyter-core>=4.6.0 in /opt/conda/envs/rapids/lib/python3.6/site-packages (from jupyter-client==6.1.5) (4.6.3)\n",
      "Requirement already satisfied: pyzmq>=13 in /opt/conda/envs/rapids/lib/python3.6/site-packages (from jupyter-client==6.1.5) (19.0.1)\n",
      "Requirement already satisfied: tornado>=4.1 in /opt/conda/envs/rapids/lib/python3.6/site-packages (from jupyter-client==6.1.5) (6.0.4)\n",
      "Requirement already satisfied: jsonschema!=2.5.0,>=2.4 in /opt/conda/envs/rapids/lib/python3.6/site-packages (from nbformat->papermill) (3.2.0)\n",
      "Requirement already satisfied: ipython-genutils in /opt/conda/envs/rapids/lib/python3.6/site-packages (from nbformat->papermill) (0.2.0)\n",
      "Requirement already satisfied: six>=1.9.0 in /opt/conda/envs/rapids/lib/python3.6/site-packages (from tenacity->papermill) (1.15.0)\n",
      "Requirement already satisfied: appdirs in /opt/conda/envs/rapids/lib/python3.6/site-packages (from black->papermill) (1.4.3)\n",
      "Requirement already satisfied: pathspec<1,>=0.6 in /opt/conda/envs/rapids/lib/python3.6/site-packages (from black->papermill) (0.8.0)\n",
      "Requirement already satisfied: toml>=0.9.4 in /opt/conda/envs/rapids/lib/python3.6/site-packages (from black->papermill) (0.10.1)\n",
      "Requirement already satisfied: regex in /opt/conda/envs/rapids/lib/python3.6/site-packages (from black->papermill) (2020.7.14)\n",
      "Requirement already satisfied: attrs>=18.1.0 in /opt/conda/envs/rapids/lib/python3.6/site-packages (from black->papermill) (19.3.0)\n",
      "Requirement already satisfied: typed-ast>=1.4.0 in /opt/conda/envs/rapids/lib/python3.6/site-packages (from black->papermill) (1.4.1)\n",
      "Requirement already satisfied: textwrap3>=0.9.2 in /opt/conda/envs/rapids/lib/python3.6/site-packages (from ansiwrap->papermill) (0.9.2)\n",
      "Requirement already satisfied: nest-asyncio in /opt/conda/envs/rapids/lib/python3.6/site-packages (from nbclient>=0.2.0->papermill) (1.4.0)\n",
      "Requirement already satisfied: async-generator in /opt/conda/envs/rapids/lib/python3.6/site-packages (from nbclient>=0.2.0->papermill) (1.10)\n",
      "Requirement already satisfied: urllib3!=1.25.0,!=1.25.1,<1.26,>=1.21.1 in /opt/conda/envs/rapids/lib/python3.6/site-packages (from requests->papermill) (1.25.9)\n",
      "Requirement already satisfied: certifi>=2017.4.17 in /opt/conda/envs/rapids/lib/python3.6/site-packages (from requests->papermill) (2020.4.5.1)\n",
      "Requirement already satisfied: idna<3,>=2.5 in /opt/conda/envs/rapids/lib/python3.6/site-packages (from requests->papermill) (2.9)\n",
      "Requirement already satisfied: chardet<4,>=3.0.2 in /opt/conda/envs/rapids/lib/python3.6/site-packages (from requests->papermill) (3.0.4)\n",
      "Requirement already satisfied: notebook>=4.4.1 in /opt/conda/envs/rapids/lib/python3.6/site-packages (from widgetsnbextension~=3.5.0->ipywidgets) (6.0.3)\n",
      "Requirement already satisfied: decorator in /opt/conda/envs/rapids/lib/python3.6/site-packages (from traitlets>=4.3.1->ipywidgets) (4.4.2)\n",
      "Requirement already satisfied: setuptools>=18.5 in /opt/conda/envs/rapids/lib/python3.6/site-packages (from ipython>=4.0.0; python_version >= \"3.3\"->ipywidgets) (47.1.1.post20200529)\n",
      "Requirement already satisfied: jedi>=0.10 in /opt/conda/envs/rapids/lib/python3.6/site-packages (from ipython>=4.0.0; python_version >= \"3.3\"->ipywidgets) (0.17.0)\n",
      "Requirement already satisfied: pickleshare in /opt/conda/envs/rapids/lib/python3.6/site-packages (from ipython>=4.0.0; python_version >= \"3.3\"->ipywidgets) (0.7.5)\n",
      "Requirement already satisfied: prompt_toolkit<2.1.0,>=2.0.0 in /opt/conda/envs/rapids/lib/python3.6/site-packages (from ipython>=4.0.0; python_version >= \"3.3\"->ipywidgets) (2.0.10)\n",
      "Requirement already satisfied: pygments in /opt/conda/envs/rapids/lib/python3.6/site-packages (from ipython>=4.0.0; python_version >= \"3.3\"->ipywidgets) (2.6.1)\n",
      "Requirement already satisfied: backcall in /opt/conda/envs/rapids/lib/python3.6/site-packages (from ipython>=4.0.0; python_version >= \"3.3\"->ipywidgets) (0.1.0)\n",
      "Requirement already satisfied: pexpect in /opt/conda/envs/rapids/lib/python3.6/site-packages (from ipython>=4.0.0; python_version >= \"3.3\"->ipywidgets) (4.8.0)\n",
      "Requirement already satisfied: pyrsistent>=0.14.0 in /opt/conda/envs/rapids/lib/python3.6/site-packages (from jsonschema!=2.5.0,>=2.4->nbformat->papermill) (0.16.0)\n",
      "Requirement already satisfied: importlib-metadata; python_version < \"3.8\" in /opt/conda/envs/rapids/lib/python3.6/site-packages (from jsonschema!=2.5.0,>=2.4->nbformat->papermill) (1.6.0)\n",
      "Requirement already satisfied: jinja2 in /opt/conda/envs/rapids/lib/python3.6/site-packages (from notebook>=4.4.1->widgetsnbextension~=3.5.0->ipywidgets) (2.11.2)\n",
      "Requirement already satisfied: prometheus-client in /opt/conda/envs/rapids/lib/python3.6/site-packages (from notebook>=4.4.1->widgetsnbextension~=3.5.0->ipywidgets) (0.8.0)\n",
      "Requirement already satisfied: Send2Trash in /opt/conda/envs/rapids/lib/python3.6/site-packages (from notebook>=4.4.1->widgetsnbextension~=3.5.0->ipywidgets) (1.5.0)\n",
      "Requirement already satisfied: terminado>=0.8.1 in /opt/conda/envs/rapids/lib/python3.6/site-packages (from notebook>=4.4.1->widgetsnbextension~=3.5.0->ipywidgets) (0.8.3)\n",
      "Requirement already satisfied: nbconvert in /opt/conda/envs/rapids/lib/python3.6/site-packages (from notebook>=4.4.1->widgetsnbextension~=3.5.0->ipywidgets) (5.6.1)\n",
      "Requirement already satisfied: parso>=0.7.0 in /opt/conda/envs/rapids/lib/python3.6/site-packages (from jedi>=0.10->ipython>=4.0.0; python_version >= \"3.3\"->ipywidgets) (0.7.0)\n",
      "Requirement already satisfied: wcwidth in /opt/conda/envs/rapids/lib/python3.6/site-packages (from prompt_toolkit<2.1.0,>=2.0.0->ipython>=4.0.0; python_version >= \"3.3\"->ipywidgets) (0.2.3)\n",
      "Requirement already satisfied: ptyprocess>=0.5 in /opt/conda/envs/rapids/lib/python3.6/site-packages (from pexpect->ipython>=4.0.0; python_version >= \"3.3\"->ipywidgets) (0.6.0)\n",
      "Requirement already satisfied: zipp>=0.5 in /opt/conda/envs/rapids/lib/python3.6/site-packages (from importlib-metadata; python_version < \"3.8\"->jsonschema!=2.5.0,>=2.4->nbformat->papermill) (3.1.0)\n",
      "Requirement already satisfied: MarkupSafe>=0.23 in /opt/conda/envs/rapids/lib/python3.6/site-packages (from jinja2->notebook>=4.4.1->widgetsnbextension~=3.5.0->ipywidgets) (1.1.1)\n",
      "Requirement already satisfied: bleach in /opt/conda/envs/rapids/lib/python3.6/site-packages (from nbconvert->notebook>=4.4.1->widgetsnbextension~=3.5.0->ipywidgets) (3.1.5)\n",
      "Requirement already satisfied: testpath in /opt/conda/envs/rapids/lib/python3.6/site-packages (from nbconvert->notebook>=4.4.1->widgetsnbextension~=3.5.0->ipywidgets) (0.4.4)\n",
      "Requirement already satisfied: defusedxml in /opt/conda/envs/rapids/lib/python3.6/site-packages (from nbconvert->notebook>=4.4.1->widgetsnbextension~=3.5.0->ipywidgets) (0.6.0)\n",
      "Requirement already satisfied: pandocfilters>=1.4.1 in /opt/conda/envs/rapids/lib/python3.6/site-packages (from nbconvert->notebook>=4.4.1->widgetsnbextension~=3.5.0->ipywidgets) (1.4.2)\n",
      "Requirement already satisfied: mistune<2,>=0.8.1 in /opt/conda/envs/rapids/lib/python3.6/site-packages (from nbconvert->notebook>=4.4.1->widgetsnbextension~=3.5.0->ipywidgets) (0.8.4)\n",
      "Requirement already satisfied: packaging in /opt/conda/envs/rapids/lib/python3.6/site-packages (from bleach->nbconvert->notebook>=4.4.1->widgetsnbextension~=3.5.0->ipywidgets) (20.4)\n",
      "Requirement already satisfied: webencodings in /opt/conda/envs/rapids/lib/python3.6/site-packages (from bleach->nbconvert->notebook>=4.4.1->widgetsnbextension~=3.5.0->ipywidgets) (0.5.1)\n",
      "Requirement already satisfied: pyparsing>=2.0.2 in /opt/conda/envs/rapids/lib/python3.6/site-packages (from packaging->bleach->nbconvert->notebook>=4.4.1->widgetsnbextension~=3.5.0->ipywidgets) (2.4.7)\n",
      "Installing collected packages: jupyter-client\n",
      "  Attempting uninstall: jupyter-client\n",
      "    Found existing installation: jupyter-client 6.1.3\n",
      "    Uninstalling jupyter-client-6.1.3:\n",
      "      Successfully uninstalled jupyter-client-6.1.3\n",
      "Successfully installed jupyter-client-6.1.5\n"
     ]
    }
   ],
   "source": [
    "# !pip install papermill ipywidgets jupyter-client==6.1.5"
   ]
  },
  {
   "cell_type": "code",
   "execution_count": 1,
   "metadata": {},
   "outputs": [],
   "source": [
    "import papermill as pm\n",
    "import multiprocessing as mp\n",
    "from sklearn.model_selection import ParameterGrid\n",
    "import numpy as np\n",
    "import os\n",
    "import nest_asyncio\n",
    "nest_asyncio.apply()"
   ]
  },
  {
   "cell_type": "code",
   "execution_count": 2,
   "metadata": {},
   "outputs": [],
   "source": [
    "max_experiments = 5\n",
    "input_notebook = 'XGBoost_Demo.ipynb'\n",
    "output_dir = 'xgboost_2020_08_14'\n",
    "hyperparameter_ranges = {\n",
    "    'max_depth'    : [int(i) for i in np.random.randint(5, 15+1, 5)],\n",
    "    'num_rounds' : [int(i) for i in np.random.randint(10, 50+1, 5)],\n",
    "    'eta' : [float(i) for i in np.random.uniform(0.1, 1.0, 5)]\n",
    "} "
   ]
  },
  {
   "cell_type": "code",
   "execution_count": 3,
   "metadata": {},
   "outputs": [
    {
     "name": "stdout",
     "output_type": "stream",
     "text": [
      "{'eta': 0.599051300182406, 'max_depth': 14, 'num_rounds': 35}\n"
     ]
    }
   ],
   "source": [
    "candidate_params = np.random.choice(ParameterGrid(hyperparameter_ranges), max_experiments)\n",
    "\n",
    "print(candidate_params[0])"
   ]
  },
  {
   "cell_type": "code",
   "execution_count": 4,
   "metadata": {},
   "outputs": [],
   "source": [
    "def run_papermill(cand, inp, outd):\n",
    "    \n",
    "    if not os.path.exists(outd):\n",
    "        os.makedirs(outd)\n",
    "    \n",
    "    output_notebook = outd + '/' + inp.split('.')[0] + str(cand['max_depth']) + '_' + str(cand['num_rounds']) + '_' + str(int(cand['eta']*100)) + '.ipynb'\n",
    "    \n",
    "    if os.path.exists(output_notebook):\n",
    "        os.remove(output_notebook)\n",
    "    \n",
    "    print(cand, \"starting\")\n",
    "    \n",
    "    pm.execute_notebook(inp, output_notebook, dict(max_depth=cand['max_depth'], eta = cand['eta'], num_rounds=cand['num_rounds']))\n",
    "    \n",
    "    print(output_notebook, \"completed\")"
   ]
  },
  {
   "cell_type": "code",
   "execution_count": 5,
   "metadata": {
    "scrolled": true
   },
   "outputs": [
    {
     "name": "stdout",
     "output_type": "stream",
     "text": [
      "{'eta': 0.599051300182406, 'max_depth': 14, 'num_rounds': 35} starting\n",
      "{'eta': 0.599051300182406, 'max_depth': 9, 'num_rounds': 32} starting \n",
      "{'eta': 0.599051300182406, 'max_depth': 14, 'num_rounds': 40}starting\n",
      "{'eta': 0.599051300182406, 'max_depth': 6, 'num_rounds': 40} starting\n",
      "{'eta': 0.6944526246344632, 'max_depth': 9, 'num_rounds': 40} starting\n"
     ]
    },
    {
     "data": {
      "application/vnd.jupyter.widget-view+json": {
       "model_id": "8e1ff63e378441de9c7fda9d8279b18d",
       "version_major": 2,
       "version_minor": 0
      },
      "text/plain": [
       "HBox(children=(FloatProgress(value=0.0, description='Executing', max=23.0, style=ProgressStyle(description_wid…"
      ]
     },
     "metadata": {},
     "output_type": "display_data"
    },
    {
     "data": {
      "application/vnd.jupyter.widget-view+json": {
       "model_id": "58d1b2bee5bd4fc8a86f439104a76d34",
       "version_major": 2,
       "version_minor": 0
      },
      "text/plain": [
       "HBox(children=(FloatProgress(value=0.0, description='Executing', max=23.0, style=ProgressStyle(description_wid…"
      ]
     },
     "metadata": {},
     "output_type": "display_data"
    },
    {
     "data": {
      "application/vnd.jupyter.widget-view+json": {
       "model_id": "0ad922da82ab40e3aadca95ba8973625",
       "version_major": 2,
       "version_minor": 0
      },
      "text/plain": [
       "HBox(children=(FloatProgress(value=0.0, description='Executing', max=23.0, style=ProgressStyle(description_wid…"
      ]
     },
     "metadata": {},
     "output_type": "display_data"
    },
    {
     "data": {
      "application/vnd.jupyter.widget-view+json": {
       "model_id": "88f9df8611af42bea4e108920cbfef55",
       "version_major": 2,
       "version_minor": 0
      },
      "text/plain": [
       "HBox(children=(FloatProgress(value=0.0, description='Executing', max=23.0, style=ProgressStyle(description_wid…"
      ]
     },
     "metadata": {},
     "output_type": "display_data"
    },
    {
     "data": {
      "application/vnd.jupyter.widget-view+json": {
       "model_id": "598363a611754df9ba3497bf20ed49c7",
       "version_major": 2,
       "version_minor": 0
      },
      "text/plain": [
       "HBox(children=(FloatProgress(value=0.0, description='Executing', max=23.0, style=ProgressStyle(description_wid…"
      ]
     },
     "metadata": {},
     "output_type": "display_data"
    },
    {
     "name": "stderr",
     "output_type": "stream",
     "text": [
      "/opt/conda/envs/rapids/lib/python3.6/site-packages/jupyter_client/manager.py:358: FutureWarning: Method cleanup(connection_file=True) is deprecated, use cleanup_resources(restart=False).\n",
      "  FutureWarning)\n"
     ]
    },
    {
     "name": "stdout",
     "output_type": "stream",
     "text": [
      "\n",
      "xgboost_2020_08_14/XGBoost_Demo6_40_59.ipynb completed\n"
     ]
    },
    {
     "name": "stderr",
     "output_type": "stream",
     "text": [
      "/opt/conda/envs/rapids/lib/python3.6/site-packages/jupyter_client/manager.py:358: FutureWarning: Method cleanup(connection_file=True) is deprecated, use cleanup_resources(restart=False).\n",
      "  FutureWarning)\n"
     ]
    },
    {
     "name": "stdout",
     "output_type": "stream",
     "text": [
      "\n",
      "xgboost_2020_08_14/XGBoost_Demo9_32_59.ipynb completed\n"
     ]
    },
    {
     "name": "stderr",
     "output_type": "stream",
     "text": [
      "/opt/conda/envs/rapids/lib/python3.6/site-packages/jupyter_client/manager.py:358: FutureWarning: Method cleanup(connection_file=True) is deprecated, use cleanup_resources(restart=False).\n",
      "  FutureWarning)\n"
     ]
    },
    {
     "name": "stdout",
     "output_type": "stream",
     "text": [
      "\n",
      "xgboost_2020_08_14/XGBoost_Demo9_40_69.ipynb completed\n"
     ]
    },
    {
     "name": "stderr",
     "output_type": "stream",
     "text": [
      "/opt/conda/envs/rapids/lib/python3.6/site-packages/jupyter_client/manager.py:358: FutureWarning: Method cleanup(connection_file=True) is deprecated, use cleanup_resources(restart=False).\n",
      "  FutureWarning)\n"
     ]
    },
    {
     "name": "stdout",
     "output_type": "stream",
     "text": [
      "\n",
      "xgboost_2020_08_14/XGBoost_Demo14_35_59.ipynb completed\n"
     ]
    },
    {
     "name": "stderr",
     "output_type": "stream",
     "text": [
      "/opt/conda/envs/rapids/lib/python3.6/site-packages/jupyter_client/manager.py:358: FutureWarning: Method cleanup(connection_file=True) is deprecated, use cleanup_resources(restart=False).\n",
      "  FutureWarning)\n"
     ]
    },
    {
     "name": "stdout",
     "output_type": "stream",
     "text": [
      "\n",
      "xgboost_2020_08_14/XGBoost_Demo14_40_59.ipynb completed\n"
     ]
    }
   ],
   "source": [
    "for candidate in candidate_params:\n",
    "    p = mp.Process(\n",
    "        target=run_papermill,\n",
    "        args=(candidate, input_notebook, output_dir,)\n",
    "    )\n",
    "    p.start()"
   ]
  },
  {
   "cell_type": "code",
   "execution_count": 7,
   "metadata": {},
   "outputs": [
    {
     "name": "stdout",
     "output_type": "stream",
     "text": [
      "Input Notebook:  XGBoost_Demo.ipynb\n",
      "Output Notebook: XGBoost_Demo4.ipynb\n",
      "Generating grammar tables from /opt/conda/envs/rapids/lib/python3.6/site-packages/blib2to3/Grammar.txt\n",
      "Writing grammar tables to /root/.cache/black/19.10b0/Grammar3.6.10.final.0.pickle\n",
      "Writing failed: [Errno 2] No such file or directory: '/root/.cache/black/19.10b0/tmpcthuy_go'\n",
      "Generating grammar tables from /opt/conda/envs/rapids/lib/python3.6/site-packages/blib2to3/PatternGrammar.txt\n",
      "Writing grammar tables to /root/.cache/black/19.10b0/PatternGrammar3.6.10.final.0.pickle\n",
      "Writing failed: [Errno 2] No such file or directory: '/root/.cache/black/19.10b0/tmpp39tb2yq'\n",
      "Executing:   0%|                                       | 0/23 [00:00<?, ?cell/s]Executing notebook with kernel: python3\n",
      "Executing:  96%|��������������������������������������������������������������������������������������� | 22/23 [00:09<00:00,  1.35cell/s]/opt/conda/envs/rapids/lib/python3.6/site-packages/jupyter_client/manager.py:358: FutureWarning: Method cleanup(connection_file=True) is deprecated, use cleanup_resources(restart=False).\n",
      "  FutureWarning)\n",
      "Executing: 100%|������������������������������������������������������������������������������������������| 23/23 [00:11<00:00,  2.08cell/s]\n"
     ]
    }
   ],
   "source": [
    "# !LC_ALL=C.UTF-8 LANG=C.UTF-8 papermill XGBoost_Demo.ipynb XGBoost_Demo4.ipynb -p max_depth 13 -p eta 0.19026762501776856 -p num_rounds 22"
   ]
  },
  {
   "cell_type": "code",
   "execution_count": null,
   "metadata": {},
   "outputs": [],
   "source": []
  }
 ],
 "metadata": {
  "kernelspec": {
   "display_name": "Python 3",
   "language": "python",
   "name": "python3"
  },
  "language_info": {
   "codemirror_mode": {
    "name": "ipython",
    "version": 3
   },
   "file_extension": ".py",
   "mimetype": "text/x-python",
   "name": "python",
   "nbconvert_exporter": "python",
   "pygments_lexer": "ipython3",
   "version": "3.6.10"
  }
 },
 "nbformat": 4,
 "nbformat_minor": 4
}
