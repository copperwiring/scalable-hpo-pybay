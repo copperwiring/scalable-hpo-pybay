{
 "cells": [
  {
   "cell_type": "markdown",
   "metadata": {},
   "source": [
    "# Parameterizing and executing the notebook with papermill\n",
    "#### Authors: \n",
    "* Srishti Yadav (https://github.com/copperwiring)\n",
    "* Akshit Arora (https://github.com/aroraakshit)\n",
    "\n",
    "--------------\n",
    "\n",
    "If you find any bug in the code, please raise an issue or send a PR are: https://github.com/copperwiring/scalable-hpo-pybay"
   ]
  },
  {
   "cell_type": "markdown",
   "metadata": {},
   "source": [
    "### Install dependencies"
   ]
  },
  {
   "cell_type": "code",
   "execution_count": null,
   "metadata": {},
   "outputs": [],
   "source": [
    "!pip3 install papermill ipywidgets jupyter-client==6.1.5"
   ]
  },
  {
   "cell_type": "markdown",
   "metadata": {},
   "source": [
    "### Import libraries"
   ]
  },
  {
   "cell_type": "code",
   "execution_count": null,
   "metadata": {},
   "outputs": [],
   "source": [
    "import os\n",
    "from glob import glob\n",
    "from shutil import rmtree\n",
    "import papermill as pm\n",
    "import time\n",
    "import multiprocessing as mp\n",
    "from sklearn.model_selection import ParameterGrid\n",
    "import numpy as np\n",
    "import os\n",
    "import nest_asyncio\n",
    "nest_asyncio.apply()"
   ]
  },
  {
   "cell_type": "markdown",
   "metadata": {},
   "source": [
    "### Delete output folder if it exists"
   ]
  },
  {
   "cell_type": "code",
   "execution_count": null,
   "metadata": {},
   "outputs": [],
   "source": [
    "path = os.getcwd()\n",
    "pattern = os.path.join(path, \"xgboost*\")\n",
    "\n",
    "for item in glob(pattern):\n",
    "    if not os.path.isdir(item):\n",
    "        continue\n",
    "    rmtree(item)"
   ]
  },
  {
   "cell_type": "markdown",
   "metadata": {},
   "source": [
    "### Set parallel processing"
   ]
  },
  {
   "cell_type": "code",
   "execution_count": null,
   "metadata": {},
   "outputs": [],
   "source": [
    "parallel = True"
   ]
  },
  {
   "cell_type": "markdown",
   "metadata": {},
   "source": [
    "### Define variables and hypeparameters range\n",
    "- `max_experiments`: max number of experiments to run\n",
    "- `output_dir`: name of the directory where final output files will be saved\n",
    "- `eta`: learnig rate"
   ]
  },
  {
   "cell_type": "code",
   "execution_count": null,
   "metadata": {},
   "outputs": [],
   "source": [
    "max_experiments = 5\n",
    "input_notebook = 'XGBoost_Demo.ipynb'\n",
    "output_dir = 'xgboost_'+time.strftime(\"%Y%m%d_%H%M%S\")\n",
    "hyperparameter_ranges = {\n",
    "    'max_depth'    : [int(i) for i in np.random.randint(5, 15+1, 5)],\n",
    "    'num_rounds' : [int(i) for i in np.random.randint(2, 10+1, 5)],\n",
    "    'eta' : [float(i) for i in np.random.uniform(0.1, 1.0, 5)]\n",
    "}\n"
   ]
  },
  {
   "cell_type": "markdown",
   "metadata": {},
   "source": [
    "### Set hyperparamters for different jobs \n",
    "- Hyperparamters are set randomly from the search space above\n",
    "- `max_experiments` will determine how many sets of hyperparamters will be set, one for each experiment"
   ]
  },
  {
   "cell_type": "code",
   "execution_count": null,
   "metadata": {},
   "outputs": [],
   "source": [
    "candidate_params = np.random.choice(ParameterGrid(hyperparameter_ranges), max_experiments)\n",
    "\n",
    "# print a sample parameter\n",
    "print(candidate_params[0])"
   ]
  },
  {
   "cell_type": "markdown",
   "metadata": {},
   "source": [
    "### Paramerterize and execute the noebook using Papermill\n",
    "Paermill execution using api: https://papermill.readthedocs.io/en/latest/usage-execute.html"
   ]
  },
  {
   "cell_type": "code",
   "execution_count": null,
   "metadata": {},
   "outputs": [],
   "source": [
    "def run_papermill(cand, inp, outd):\n",
    "    \n",
    "    if not os.path.exists(outd):\n",
    "        os.makedirs(outd)\n",
    "    \n",
    "    output_notebook = outd + '/' + inp.split('.')[0] + str(cand['max_depth']) + '_' + str(cand['num_rounds']) + '_' + str(int(cand['eta']*100)) + '.ipynb'\n",
    "    \n",
    "    if os.path.exists(output_notebook):\n",
    "        os.remove(output_notebook)\n",
    "    \n",
    "    print(cand, \"Starting process..\")\n",
    "    \n",
    "    try:\n",
    "        pm.execute_notebook(inp, output_notebook, dict(max_depth=cand['max_depth'], eta = cand['eta'], num_rounds=cand['num_rounds']))\n",
    "    except:\n",
    "        pass\n",
    "    \n",
    "    print(output_notebook, \"Process finished..\")"
   ]
  },
  {
   "cell_type": "markdown",
   "metadata": {},
   "source": [
    "### Parallelize exxcution of the paramterized notebook\n",
    "- set `parallel` = True for parallel processing\n",
    "- set `parallel` = False for sequential processing"
   ]
  },
  {
   "cell_type": "code",
   "execution_count": null,
   "metadata": {
    "scrolled": true
   },
   "outputs": [],
   "source": [
    "for candidate in candidate_params:    \n",
    "    if parallel:\n",
    "        p = mp.Process(\n",
    "            target=run_papermill,\n",
    "            args=(candidate, input_notebook, output_dir,)\n",
    "        )\n",
    "        p.start()\n",
    "    else:\n",
    "        run_papermill(candidate, input_notebook, output_dir)"
   ]
  },
  {
   "cell_type": "markdown",
   "metadata": {},
   "source": [
    "### Papermill CLI command\n",
    "Papermill execution using CLI: https://papermill.readthedocs.io/en/latest/usage-execute.html"
   ]
  },
  {
   "cell_type": "code",
   "execution_count": null,
   "metadata": {},
   "outputs": [],
   "source": [
    "# !LC_ALL=C.UTF-8 LANG=C.UTF-8 papermill XGBoost_Demo.ipynb XGBoost_Demo4.ipynb -p max_depth 13 -p eta 0.19026762501776856 -p num_rounds 22"
   ]
  }
 ],
 "metadata": {
  "kernelspec": {
   "display_name": "Python 3",
   "language": "python",
   "name": "python3"
  },
  "language_info": {
   "codemirror_mode": {
    "name": "ipython",
    "version": 3
   },
   "file_extension": ".py",
   "mimetype": "text/x-python",
   "name": "python",
   "nbconvert_exporter": "python",
   "pygments_lexer": "ipython3",
   "version": "3.6.10"
  }
 },
 "nbformat": 4,
 "nbformat_minor": 4
}
