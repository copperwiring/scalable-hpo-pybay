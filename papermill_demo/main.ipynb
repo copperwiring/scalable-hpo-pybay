{
 "cells": [
  {
   "cell_type": "code",
   "execution_count": 1,
   "metadata": {},
   "outputs": [],
   "source": [
    "# !pip install papermill ipywidgets jupyter-client==6.1.5"
   ]
  },
  {
   "cell_type": "code",
   "execution_count": 2,
   "metadata": {},
   "outputs": [],
   "source": [
    "import papermill as pm\n",
    "import multiprocessing as mp\n",
    "from sklearn.model_selection import ParameterGrid\n",
    "import numpy as np\n",
    "import os\n",
    "import nest_asyncio\n",
    "nest_asyncio.apply()"
   ]
  },
  {
   "cell_type": "code",
   "execution_count": 3,
   "metadata": {},
   "outputs": [],
   "source": [
    "max_experiments = 5\n",
    "input_notebook = 'XGBoost_Demo.ipynb'\n",
    "output_dir = 'xgboost_2020_08_14'\n",
    "hyperparameter_ranges = {\n",
    "    'max_depth'    : [int(i) for i in np.random.randint(5, 15+1, 5)],\n",
    "    'num_rounds' : [int(i) for i in np.random.randint(10, 50+1, 5)],\n",
    "    'eta' : [float(i) for i in np.random.uniform(0.1, 1.0, 5)]\n",
    "} "
   ]
  },
  {
   "cell_type": "code",
   "execution_count": 4,
   "metadata": {},
   "outputs": [
    {
     "name": "stdout",
     "output_type": "stream",
     "text": [
      "{'eta': 0.843711725932526, 'max_depth': 12, 'num_rounds': 41}\n"
     ]
    }
   ],
   "source": [
    "candidate_params = np.random.choice(ParameterGrid(hyperparameter_ranges), max_experiments)\n",
    "\n",
    "print(candidate_params[0])"
   ]
  },
  {
   "cell_type": "code",
   "execution_count": 5,
   "metadata": {},
   "outputs": [],
   "source": [
    "def run_papermill(cand, inp, outd):\n",
    "    \n",
    "    if not os.path.exists(outd):\n",
    "        os.makedirs(outd)\n",
    "    \n",
    "    output_notebook = outd + '/' + inp.split('.')[0] + str(cand['max_depth']) + '_' + str(cand['num_rounds']) + '_' + str(int(cand['eta']*100)) + '.ipynb'\n",
    "    \n",
    "    if os.path.exists(output_notebook):\n",
    "        os.remove(output_notebook)\n",
    "    \n",
    "    print(cand, \"starting\")\n",
    "    \n",
    "    pm.execute_notebook(inp, output_notebook, dict(max_depth=cand['max_depth'], eta = cand['eta'], num_rounds=cand['num_rounds']))\n",
    "    \n",
    "    print(output_notebook, \"completed\")"
   ]
  },
  {
   "cell_type": "code",
   "execution_count": 6,
   "metadata": {
    "scrolled": true
   },
   "outputs": [
    {
     "name": "stdout",
     "output_type": "stream",
     "text": [
      "{'eta': 0.843711725932526, 'max_depth': 12, 'num_rounds': 41} {'eta': 0.843711725932526, 'max_depth': 12, 'num_rounds': 25} starting{'eta': 0.843711725932526, 'max_depth': 12, 'num_rounds': 21}\n",
      " starting{'eta': 0.18534878235207602, 'max_depth': 13, 'num_rounds': 41}\n",
      "{'eta': 0.18534878235207602, 'max_depth': 12, 'num_rounds': 41} starting\n",
      "starting\n",
      " starting\n"
     ]
    },
    {
     "data": {
      "application/vnd.jupyter.widget-view+json": {
       "model_id": "fd3d065ae451418ab5cf2054c5dbffd4",
       "version_major": 2,
       "version_minor": 0
      },
      "text/plain": [
       "HBox(children=(FloatProgress(value=0.0, description='Executing', max=23.0, style=ProgressStyle(description_wid…"
      ]
     },
     "metadata": {},
     "output_type": "display_data"
    },
    {
     "data": {
      "application/vnd.jupyter.widget-view+json": {
       "model_id": "54f3d833134847f0891cebf70ba67f94",
       "version_major": 2,
       "version_minor": 0
      },
      "text/plain": [
       "HBox(children=(FloatProgress(value=0.0, description='Executing', max=23.0, style=ProgressStyle(description_wid…"
      ]
     },
     "metadata": {},
     "output_type": "display_data"
    },
    {
     "data": {
      "application/vnd.jupyter.widget-view+json": {
       "model_id": "89f626552d944362a2e8938cca49dc05",
       "version_major": 2,
       "version_minor": 0
      },
      "text/plain": [
       "HBox(children=(FloatProgress(value=0.0, description='Executing', max=23.0, style=ProgressStyle(description_wid…"
      ]
     },
     "metadata": {},
     "output_type": "display_data"
    },
    {
     "data": {
      "application/vnd.jupyter.widget-view+json": {
       "model_id": "5805f9d307854796820a368d2cf2d515",
       "version_major": 2,
       "version_minor": 0
      },
      "text/plain": [
       "HBox(children=(FloatProgress(value=0.0, description='Executing', max=23.0, style=ProgressStyle(description_wid…"
      ]
     },
     "metadata": {},
     "output_type": "display_data"
    },
    {
     "data": {
      "application/vnd.jupyter.widget-view+json": {
       "model_id": "be4c0eea17e249d4810287c19945a948",
       "version_major": 2,
       "version_minor": 0
      },
      "text/plain": [
       "HBox(children=(FloatProgress(value=0.0, description='Executing', max=23.0, style=ProgressStyle(description_wid…"
      ]
     },
     "metadata": {},
     "output_type": "display_data"
    }
   ],
   "source": [
    "for candidate in candidate_params:\n",
    "    p = mp.Process(\n",
    "        target=run_papermill,\n",
    "        args=(candidate, input_notebook, output_dir,)\n",
    "    )\n",
    "    p.start()"
   ]
  },
  {
   "cell_type": "code",
   "execution_count": 1,
   "metadata": {},
   "outputs": [
    {
     "name": "stdout",
     "output_type": "stream",
     "text": [
      "Input Notebook:  XGBoost_Demo.ipynb\n",
      "Output Notebook: XGBoost_Demo4.ipynb\n",
      "Generating grammar tables from /opt/conda/envs/rapids/lib/python3.6/site-packages/blib2to3/Grammar.txt\n",
      "Writing grammar tables to /root/.cache/black/19.10b0/Grammar3.6.10.final.0.pickle\n",
      "Writing failed: [Errno 2] No such file or directory: '/root/.cache/black/19.10b0/tmp1or5vfz0'\n",
      "Generating grammar tables from /opt/conda/envs/rapids/lib/python3.6/site-packages/blib2to3/PatternGrammar.txt\n",
      "Writing grammar tables to /root/.cache/black/19.10b0/PatternGrammar3.6.10.final.0.pickle\n",
      "Writing failed: [Errno 2] No such file or directory: '/root/.cache/black/19.10b0/tmpe1hppg9w'\n",
      "Executing:   0%|                                       | 0/23 [00:00<?, ?cell/s]Executing notebook with kernel: python3\n",
      "Executing: 100%|������������������������������������������������������������������������������������������| 23/23 [00:15<00:00,  1.18s/cell]/opt/conda/envs/rapids/lib/python3.6/site-packages/jupyter_client/manager.py:358: FutureWarning: Method cleanup(connection_file=True) is deprecated, use cleanup_resources(restart=False).\n",
      "  FutureWarning)\n",
      "Executing: 100%|������������������������������������������������������������������������������������������| 23/23 [00:17<00:00,  1.35cell/s]\n"
     ]
    }
   ],
   "source": [
    "# !LC_ALL=C.UTF-8 LANG=C.UTF-8 papermill XGBoost_Demo.ipynb XGBoost_Demo4.ipynb -p max_depth 13 -p eta 0.19026762501776856 -p num_rounds 22"
   ]
  },
  {
   "cell_type": "code",
   "execution_count": null,
   "metadata": {},
   "outputs": [],
   "source": []
  }
 ],
 "metadata": {
  "kernelspec": {
   "display_name": "Python 3",
   "language": "python",
   "name": "python3"
  },
  "language_info": {
   "codemirror_mode": {
    "name": "ipython",
    "version": 3
   },
   "file_extension": ".py",
   "mimetype": "text/x-python",
   "name": "python",
   "nbconvert_exporter": "python",
   "pygments_lexer": "ipython3",
   "version": "3.6.10"
  }
 },
 "nbformat": 4,
 "nbformat_minor": 4
}
